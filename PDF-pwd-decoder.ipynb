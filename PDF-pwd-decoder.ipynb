{
 "cells": [
  {
   "cell_type": "code",
   "execution_count": 18,
   "metadata": {},
   "outputs": [],
   "source": [
    "# !pip install pypdf2\n",
    "# !pip install pdfminer.six"
   ]
  },
  {
   "cell_type": "code",
   "execution_count": 34,
   "metadata": {},
   "outputs": [],
   "source": [
    "import os\n",
    "import re\n",
    "from PyPDF2 import PdfReader, PdfWriter\n",
    "from pdfminer.high_level import extract_text\n",
    "\n",
    "import os\n",
    "from PyPDF2 import PdfReader, PdfWriter\n",
    "\n",
    "def decrypt_pdf_files(input_folder, output_folder, password):\n",
    "    if not os.path.exists(output_folder):\n",
    "        os.makedirs(output_folder)\n",
    "\n",
    "    for filename in os.listdir(input_folder):\n",
    "        if filename.endswith('.pdf'):\n",
    "            input_file_path = os.path.join(input_folder, filename)\n",
    "            output_file_path = os.path.join(output_folder, filename)\n",
    "\n",
    "            with open(input_file_path, 'rb') as input_file:\n",
    "                pdf_reader = PdfReader(input_file)\n",
    "                \n",
    "                if pdf_reader.is_encrypted:\n",
    "                    try:\n",
    "                        pdf_reader.decrypt(password)\n",
    "                        pdf_writer = PdfWriter()\n",
    "\n",
    "                        for page in pdf_reader.pages:\n",
    "                            pdf_writer.add_page(page)\n",
    "\n",
    "                        with open(output_file_path, 'wb') as output_file:\n",
    "                            pdf_writer.write(output_file)\n",
    "                            print(f'Successfully decrypted {filename} and saved it to {output_folder}.')\n",
    "                    except:\n",
    "                        print(f'Failed to decrypt {filename}.')\n",
    "                else:\n",
    "                    print(f'{filename} is not encrypted.')\n",
    "\n",
    "\n"
   ]
  },
  {
   "cell_type": "code",
   "execution_count": 35,
   "metadata": {},
   "outputs": [
    {
     "name": "stdout",
     "output_type": "stream",
     "text": [
      "Successfully decrypted 00103227320201828ZB844363757492CPIMBCP155383448.pdf and saved it to C:\\Users\\manis\\Koofr\\Tax_home_laptop\\IN-MF\\CAMS_CONSOL_PF.\n",
      "Successfully decrypted 12318717320201728ZB90436375749100CPIMBCP155383409.pdf and saved it to C:\\Users\\manis\\Koofr\\Tax_home_laptop\\IN-MF\\CAMS_CONSOL_PF.\n",
      "Successfully decrypted 24312227320201828ZB2443637574981CPIMBCP155383442.pdf and saved it to C:\\Users\\manis\\Koofr\\Tax_home_laptop\\IN-MF\\CAMS_CONSOL_PF.\n",
      "Successfully decrypted 50002227320201828ZB0343637574914CPIMBCP155383430.pdf and saved it to C:\\Users\\manis\\Koofr\\Tax_home_laptop\\IN-MF\\CAMS_CONSOL_PF.\n",
      "Successfully decrypted 50002227320201828ZB4243637574910CPIMBCP155383424.pdf and saved it to C:\\Users\\manis\\Koofr\\Tax_home_laptop\\IN-MF\\CAMS_CONSOL_PF.\n",
      "Successfully decrypted 53914227320201828ZB6543637574945CPIMBCP155383456.pdf and saved it to C:\\Users\\manis\\Koofr\\Tax_home_laptop\\IN-MF\\CAMS_CONSOL_PF.\n",
      "Successfully decrypted 65309717320201728ZB2143637574989CPIMBCP155383412.pdf and saved it to C:\\Users\\manis\\Koofr\\Tax_home_laptop\\IN-MF\\CAMS_CONSOL_PF.\n",
      "Successfully decrypted 72217717320201728ZB3043637574958CPIMBCP155383403.pdf and saved it to C:\\Users\\manis\\Koofr\\Tax_home_laptop\\IN-MF\\CAMS_CONSOL_PF.\n",
      "Successfully decrypted 82511717320201728ZB8733637574956CPIMBCP155383378.pdf and saved it to C:\\Users\\manis\\Koofr\\Tax_home_laptop\\IN-MF\\CAMS_CONSOL_PF.\n",
      "Successfully decrypted 90612227320201828ZB734363757495CPIMBCP155383437.pdf and saved it to C:\\Users\\manis\\Koofr\\Tax_home_laptop\\IN-MF\\CAMS_CONSOL_PF.\n",
      "Successfully decrypted 93005227320201828ZB854363757498CPIMBCP155383458.pdf and saved it to C:\\Users\\manis\\Koofr\\Tax_home_laptop\\IN-MF\\CAMS_CONSOL_PF.\n",
      "Successfully decrypted 93918717320201728ZB504363757491CPIMBCP155383405.pdf and saved it to C:\\Users\\manis\\Koofr\\Tax_home_laptop\\IN-MF\\CAMS_CONSOL_PF.\n",
      "Successfully decrypted 94315717320201728ZB69336375749100CPIMBCP155383396.pdf and saved it to C:\\Users\\manis\\Koofr\\Tax_home_laptop\\IN-MF\\CAMS_CONSOL_PF.\n"
     ]
    }
   ],
   "source": [
    "path_to_input_folder = r'C:\\Users\\manis\\Koofr\\Tax_home_laptop\\IN-MF\\CAMS_CONSOL_PF'\n",
    "path_to_output_folder = r'C:\\Users\\manis\\Koofr\\Tax_home_laptop\\IN-MF\\CAMS_CONSOL_PF'\n",
    "password = 'manish84'\n",
    "\n",
    "decrypt_pdf_files(path_to_input_folder, path_to_output_folder, password)"
   ]
  },
  {
   "cell_type": "code",
   "execution_count": 36,
   "metadata": {},
   "outputs": [],
   "source": [
    "import os\n",
    "import re\n",
    "from PyPDF2 import PdfReader\n",
    "\n",
    "def rename_pdfs_in_folder(folder_path):\n",
    "    # Iterate over all files in the folder\n",
    "    for file_name in os.listdir(folder_path):\n",
    "        # Check if the file is a PDF\n",
    "        if file_name.endswith('.pdf'):\n",
    "            # Get the full path of the file\n",
    "            file_path = os.path.join(folder_path, file_name)\n",
    "            \n",
    "            # Create a PDF file reader object\n",
    "            reader = PdfReader(file_path)\n",
    "                \n",
    "            # Get the text content of the first page\n",
    "            first_page = reader.pages[0]\n",
    "            text = first_page.extract_text()\n",
    "                \n",
    "            # Find the date in the text\n",
    "            match = re.search(r'As on (\\d{2}-\\w{3}-\\d{4})', text)\n",
    "                \n",
    "            if match:\n",
    "                # Get the date\n",
    "                date = match.group(1)\n",
    "                    \n",
    "                # Create new file name\n",
    "                new_file_name = f'{date}.pdf'\n",
    "                    \n",
    "                # Get the full path of the new file name\n",
    "                new_file_path = os.path.join(folder_path, new_file_name)\n",
    "                    \n",
    "                # Rename the file\n",
    "                os.rename(file_path, new_file_path)\n",
    "                    \n",
    "                print(f'File {file_name} renamed to {new_file_name}')\n",
    "            else:\n",
    "                print(f'No date found in the header of {file_name}')\n"
   ]
  },
  {
   "cell_type": "code",
   "execution_count": 38,
   "metadata": {},
   "outputs": [
    {
     "name": "stdout",
     "output_type": "stream",
     "text": [
      "File 30-Jun-2022.pdf renamed to 30-Jun-2022.pdf\n",
      "File 30-Nov-2022.pdf renamed to 30-Nov-2022.pdf\n",
      "File 30-Sep-2022.pdf renamed to 30-Sep-2022.pdf\n",
      "File 31-Jul-2022.pdf renamed to 31-Jul-2022.pdf\n",
      "File 31-May-2022.pdf renamed to 31-May-2022.pdf\n",
      "File 31-Oct-2022.pdf renamed to 31-Oct-2022.pdf\n",
      "File 72217717320201728ZB3043637574958CPIMBCP155383403.pdf renamed to 31-Mar-2022.pdf\n",
      "File 82511717320201728ZB8733637574956CPIMBCP155383378.pdf renamed to 31-Jan-2022.pdf\n",
      "File 90612227320201828ZB734363757495CPIMBCP155383437.pdf renamed to 31-Aug-2022.pdf\n",
      "File 93005227320201828ZB854363757498CPIMBCP155383458.pdf renamed to 31-Dec-2022.pdf\n",
      "File 93918717320201728ZB504363757491CPIMBCP155383405.pdf renamed to 30-Apr-2022.pdf\n",
      "File 94315717320201728ZB69336375749100CPIMBCP155383396.pdf renamed to 28-Feb-2022.pdf\n"
     ]
    }
   ],
   "source": [
    "# Usage\n",
    "path_to_your_folder = r'C:\\Users\\manis\\Koofr\\Tax_home_laptop\\IN-MF\\CAMS_CONSOL_PF'\n",
    "rename_pdfs_in_folder(path_to_your_folder)"
   ]
  },
  {
   "cell_type": "code",
   "execution_count": null,
   "metadata": {},
   "outputs": [],
   "source": []
  }
 ],
 "metadata": {
  "kernelspec": {
   "display_name": "base",
   "language": "python",
   "name": "python3"
  },
  "language_info": {
   "codemirror_mode": {
    "name": "ipython",
    "version": 3
   },
   "file_extension": ".py",
   "mimetype": "text/x-python",
   "name": "python",
   "nbconvert_exporter": "python",
   "pygments_lexer": "ipython3",
   "version": "3.8.12"
  },
  "orig_nbformat": 4
 },
 "nbformat": 4,
 "nbformat_minor": 2
}
